{
  "nbformat": 4,
  "nbformat_minor": 0,
  "metadata": {
    "colab": {
      "name": "Thesis_Movie_Recommendations.ipynb",
      "provenance": []
    },
    "kernelspec": {
      "name": "python3",
      "display_name": "Python 3"
    },
    "language_info": {
      "name": "python"
    }
  },
  "cells": [
    {
      "cell_type": "code",
      "metadata": {
        "colab": {
          "base_uri": "https://localhost:8080/"
        },
        "id": "ZiuxbQqJr3Ks",
        "outputId": "5087c233-1279-451c-def6-6fa247f2c76f"
      },
      "source": [
        "!pip install cmfrec"
      ],
      "execution_count": 1,
      "outputs": [
        {
          "output_type": "stream",
          "name": "stdout",
          "text": [
            "Collecting cmfrec\n",
            "  Downloading cmfrec-3.2.2.post3.tar.gz (242 kB)\n",
            "\u001b[?25l\r\u001b[K     |█▍                              | 10 kB 22.7 MB/s eta 0:00:01\r\u001b[K     |██▊                             | 20 kB 29.9 MB/s eta 0:00:01\r\u001b[K     |████                            | 30 kB 36.0 MB/s eta 0:00:01\r\u001b[K     |█████▍                          | 40 kB 39.6 MB/s eta 0:00:01\r\u001b[K     |██████▊                         | 51 kB 40.1 MB/s eta 0:00:01\r\u001b[K     |████████▏                       | 61 kB 40.0 MB/s eta 0:00:01\r\u001b[K     |█████████▌                      | 71 kB 38.7 MB/s eta 0:00:01\r\u001b[K     |██████████▉                     | 81 kB 38.4 MB/s eta 0:00:01\r\u001b[K     |████████████▏                   | 92 kB 40.6 MB/s eta 0:00:01\r\u001b[K     |█████████████▌                  | 102 kB 37.6 MB/s eta 0:00:01\r\u001b[K     |██████████████▉                 | 112 kB 37.6 MB/s eta 0:00:01\r\u001b[K     |████████████████▎               | 122 kB 37.6 MB/s eta 0:00:01\r\u001b[K     |█████████████████▋              | 133 kB 37.6 MB/s eta 0:00:01\r\u001b[K     |███████████████████             | 143 kB 37.6 MB/s eta 0:00:01\r\u001b[K     |████████████████████▎           | 153 kB 37.6 MB/s eta 0:00:01\r\u001b[K     |█████████████████████▋          | 163 kB 37.6 MB/s eta 0:00:01\r\u001b[K     |███████████████████████         | 174 kB 37.6 MB/s eta 0:00:01\r\u001b[K     |████████████████████████▍       | 184 kB 37.6 MB/s eta 0:00:01\r\u001b[K     |█████████████████████████▊      | 194 kB 37.6 MB/s eta 0:00:01\r\u001b[K     |███████████████████████████     | 204 kB 37.6 MB/s eta 0:00:01\r\u001b[K     |████████████████████████████▍   | 215 kB 37.6 MB/s eta 0:00:01\r\u001b[K     |█████████████████████████████▊  | 225 kB 37.6 MB/s eta 0:00:01\r\u001b[K     |███████████████████████████████▏| 235 kB 37.6 MB/s eta 0:00:01\r\u001b[K     |████████████████████████████████| 242 kB 37.6 MB/s \n",
            "\u001b[?25h  Installing build dependencies ... \u001b[?25l\u001b[?25hdone\n",
            "  Getting requirements to build wheel ... \u001b[?25l\u001b[?25hdone\n",
            "    Preparing wheel metadata ... \u001b[?25l\u001b[?25hdone\n",
            "Requirement already satisfied: scipy in /usr/local/lib/python3.7/dist-packages (from cmfrec) (1.4.1)\n",
            "Requirement already satisfied: numpy>=1.17 in /usr/local/lib/python3.7/dist-packages (from cmfrec) (1.19.5)\n",
            "Requirement already satisfied: pandas>=0.25.0 in /usr/local/lib/python3.7/dist-packages (from cmfrec) (1.1.5)\n",
            "Requirement already satisfied: cython in /usr/local/lib/python3.7/dist-packages (from cmfrec) (0.29.24)\n",
            "Collecting findblas\n",
            "  Using cached findblas-0.1.19-py3-none-any.whl\n",
            "Requirement already satisfied: pytz>=2017.2 in /usr/local/lib/python3.7/dist-packages (from pandas>=0.25.0->cmfrec) (2018.9)\n",
            "Requirement already satisfied: python-dateutil>=2.7.3 in /usr/local/lib/python3.7/dist-packages (from pandas>=0.25.0->cmfrec) (2.8.2)\n",
            "Requirement already satisfied: six>=1.5 in /usr/local/lib/python3.7/dist-packages (from python-dateutil>=2.7.3->pandas>=0.25.0->cmfrec) (1.15.0)\n",
            "Building wheels for collected packages: cmfrec\n",
            "  Building wheel for cmfrec (PEP 517) ... \u001b[?25l\u001b[?25hdone\n",
            "  Created wheel for cmfrec: filename=cmfrec-3.2.2.post3-cp37-cp37m-linux_x86_64.whl size=4276609 sha256=5392f030c17cb57ec2243866e43a330ab7993bad9f4e78475498132edb585f63\n",
            "  Stored in directory: /root/.cache/pip/wheels/df/91/25/16fddd48bd59883488b3cfae2cee4b2450c94c6dbaea788cc6\n",
            "Successfully built cmfrec\n",
            "Installing collected packages: findblas, cmfrec\n",
            "Successfully installed cmfrec-3.2.2.post3 findblas-0.1.19\n"
          ]
        }
      ]
    },
    {
      "cell_type": "code",
      "metadata": {
        "colab": {
          "base_uri": "https://localhost:8080/"
        },
        "id": "-rHOwtfqtkN7",
        "outputId": "2a5ca851-f652-4ec4-9250-5e58c58ba376"
      },
      "source": [
        "!pip install threadpoolctl"
      ],
      "execution_count": 2,
      "outputs": [
        {
          "output_type": "stream",
          "name": "stdout",
          "text": [
            "Requirement already satisfied: threadpoolctl in /usr/local/lib/python3.7/dist-packages (3.0.0)\n"
          ]
        }
      ]
    },
    {
      "cell_type": "code",
      "metadata": {
        "colab": {
          "base_uri": "https://localhost:8080/"
        },
        "id": "plOrWaDJlI0L",
        "outputId": "f38efa2d-402d-433e-e42c-5d5bd071516d"
      },
      "source": [
        "!pip install shap"
      ],
      "execution_count": 3,
      "outputs": [
        {
          "output_type": "stream",
          "name": "stdout",
          "text": [
            "Collecting shap\n",
            "  Downloading shap-0.40.0-cp37-cp37m-manylinux2010_x86_64.whl (564 kB)\n",
            "\u001b[?25l\r\u001b[K     |▋                               | 10 kB 22.4 MB/s eta 0:00:01\r\u001b[K     |█▏                              | 20 kB 26.3 MB/s eta 0:00:01\r\u001b[K     |█▊                              | 30 kB 29.9 MB/s eta 0:00:01\r\u001b[K     |██▎                             | 40 kB 32.3 MB/s eta 0:00:01\r\u001b[K     |███                             | 51 kB 33.8 MB/s eta 0:00:01\r\u001b[K     |███▌                            | 61 kB 35.6 MB/s eta 0:00:01\r\u001b[K     |████                            | 71 kB 28.8 MB/s eta 0:00:01\r\u001b[K     |████▋                           | 81 kB 27.9 MB/s eta 0:00:01\r\u001b[K     |█████▏                          | 92 kB 28.7 MB/s eta 0:00:01\r\u001b[K     |█████▉                          | 102 kB 30.4 MB/s eta 0:00:01\r\u001b[K     |██████▍                         | 112 kB 30.4 MB/s eta 0:00:01\r\u001b[K     |███████                         | 122 kB 30.4 MB/s eta 0:00:01\r\u001b[K     |███████▌                        | 133 kB 30.4 MB/s eta 0:00:01\r\u001b[K     |████████▏                       | 143 kB 30.4 MB/s eta 0:00:01\r\u001b[K     |████████▊                       | 153 kB 30.4 MB/s eta 0:00:01\r\u001b[K     |█████████▎                      | 163 kB 30.4 MB/s eta 0:00:01\r\u001b[K     |█████████▉                      | 174 kB 30.4 MB/s eta 0:00:01\r\u001b[K     |██████████▍                     | 184 kB 30.4 MB/s eta 0:00:01\r\u001b[K     |███████████                     | 194 kB 30.4 MB/s eta 0:00:01\r\u001b[K     |███████████▋                    | 204 kB 30.4 MB/s eta 0:00:01\r\u001b[K     |████████████▏                   | 215 kB 30.4 MB/s eta 0:00:01\r\u001b[K     |████████████▊                   | 225 kB 30.4 MB/s eta 0:00:01\r\u001b[K     |█████████████▍                  | 235 kB 30.4 MB/s eta 0:00:01\r\u001b[K     |██████████████                  | 245 kB 30.4 MB/s eta 0:00:01\r\u001b[K     |██████████████▌                 | 256 kB 30.4 MB/s eta 0:00:01\r\u001b[K     |███████████████                 | 266 kB 30.4 MB/s eta 0:00:01\r\u001b[K     |███████████████▋                | 276 kB 30.4 MB/s eta 0:00:01\r\u001b[K     |████████████████▎               | 286 kB 30.4 MB/s eta 0:00:01\r\u001b[K     |████████████████▉               | 296 kB 30.4 MB/s eta 0:00:01\r\u001b[K     |█████████████████▍              | 307 kB 30.4 MB/s eta 0:00:01\r\u001b[K     |██████████████████              | 317 kB 30.4 MB/s eta 0:00:01\r\u001b[K     |██████████████████▋             | 327 kB 30.4 MB/s eta 0:00:01\r\u001b[K     |███████████████████▏            | 337 kB 30.4 MB/s eta 0:00:01\r\u001b[K     |███████████████████▊            | 348 kB 30.4 MB/s eta 0:00:01\r\u001b[K     |████████████████████▎           | 358 kB 30.4 MB/s eta 0:00:01\r\u001b[K     |████████████████████▉           | 368 kB 30.4 MB/s eta 0:00:01\r\u001b[K     |█████████████████████▌          | 378 kB 30.4 MB/s eta 0:00:01\r\u001b[K     |██████████████████████          | 389 kB 30.4 MB/s eta 0:00:01\r\u001b[K     |██████████████████████▋         | 399 kB 30.4 MB/s eta 0:00:01\r\u001b[K     |███████████████████████▏        | 409 kB 30.4 MB/s eta 0:00:01\r\u001b[K     |███████████████████████▉        | 419 kB 30.4 MB/s eta 0:00:01\r\u001b[K     |████████████████████████▍       | 430 kB 30.4 MB/s eta 0:00:01\r\u001b[K     |█████████████████████████       | 440 kB 30.4 MB/s eta 0:00:01\r\u001b[K     |█████████████████████████▌      | 450 kB 30.4 MB/s eta 0:00:01\r\u001b[K     |██████████████████████████      | 460 kB 30.4 MB/s eta 0:00:01\r\u001b[K     |██████████████████████████▊     | 471 kB 30.4 MB/s eta 0:00:01\r\u001b[K     |███████████████████████████▎    | 481 kB 30.4 MB/s eta 0:00:01\r\u001b[K     |███████████████████████████▉    | 491 kB 30.4 MB/s eta 0:00:01\r\u001b[K     |████████████████████████████▍   | 501 kB 30.4 MB/s eta 0:00:01\r\u001b[K     |█████████████████████████████   | 512 kB 30.4 MB/s eta 0:00:01\r\u001b[K     |█████████████████████████████▋  | 522 kB 30.4 MB/s eta 0:00:01\r\u001b[K     |██████████████████████████████▏ | 532 kB 30.4 MB/s eta 0:00:01\r\u001b[K     |██████████████████████████████▊ | 542 kB 30.4 MB/s eta 0:00:01\r\u001b[K     |███████████████████████████████▎| 552 kB 30.4 MB/s eta 0:00:01\r\u001b[K     |████████████████████████████████| 563 kB 30.4 MB/s eta 0:00:01\r\u001b[K     |████████████████████████████████| 564 kB 30.4 MB/s \n",
            "\u001b[?25hRequirement already satisfied: tqdm>4.25.0 in /usr/local/lib/python3.7/dist-packages (from shap) (4.62.3)\n",
            "Requirement already satisfied: scipy in /usr/local/lib/python3.7/dist-packages (from shap) (1.4.1)\n",
            "Requirement already satisfied: scikit-learn in /usr/local/lib/python3.7/dist-packages (from shap) (1.0.1)\n",
            "Requirement already satisfied: packaging>20.9 in /usr/local/lib/python3.7/dist-packages (from shap) (21.3)\n",
            "Requirement already satisfied: numba in /usr/local/lib/python3.7/dist-packages (from shap) (0.51.2)\n",
            "Requirement already satisfied: cloudpickle in /usr/local/lib/python3.7/dist-packages (from shap) (1.3.0)\n",
            "Collecting slicer==0.0.7\n",
            "  Downloading slicer-0.0.7-py3-none-any.whl (14 kB)\n",
            "Requirement already satisfied: numpy in /usr/local/lib/python3.7/dist-packages (from shap) (1.19.5)\n",
            "Requirement already satisfied: pandas in /usr/local/lib/python3.7/dist-packages (from shap) (1.1.5)\n",
            "Requirement already satisfied: pyparsing!=3.0.5,>=2.0.2 in /usr/local/lib/python3.7/dist-packages (from packaging>20.9->shap) (3.0.6)\n",
            "Requirement already satisfied: setuptools in /usr/local/lib/python3.7/dist-packages (from numba->shap) (57.4.0)\n",
            "Requirement already satisfied: llvmlite<0.35,>=0.34.0.dev0 in /usr/local/lib/python3.7/dist-packages (from numba->shap) (0.34.0)\n",
            "Requirement already satisfied: python-dateutil>=2.7.3 in /usr/local/lib/python3.7/dist-packages (from pandas->shap) (2.8.2)\n",
            "Requirement already satisfied: pytz>=2017.2 in /usr/local/lib/python3.7/dist-packages (from pandas->shap) (2018.9)\n",
            "Requirement already satisfied: six>=1.5 in /usr/local/lib/python3.7/dist-packages (from python-dateutil>=2.7.3->pandas->shap) (1.15.0)\n",
            "Requirement already satisfied: joblib>=0.11 in /usr/local/lib/python3.7/dist-packages (from scikit-learn->shap) (1.1.0)\n",
            "Requirement already satisfied: threadpoolctl>=2.0.0 in /usr/local/lib/python3.7/dist-packages (from scikit-learn->shap) (3.0.0)\n",
            "Installing collected packages: slicer, shap\n",
            "Successfully installed shap-0.40.0 slicer-0.0.7\n"
          ]
        }
      ]
    },
    {
      "cell_type": "code",
      "metadata": {
        "colab": {
          "base_uri": "https://localhost:8080/"
        },
        "id": "UvMuZ7sm-Zcv",
        "outputId": "2a71f286-b2e5-4c4b-e9ae-70f5f33e43f0"
      },
      "source": [
        "from google.colab import drive\n",
        "drive.mount('/content/gdrive')\n",
        "!ls \"gdrive/MyDrive/Datasets\""
      ],
      "execution_count": 4,
      "outputs": [
        {
          "output_type": "stream",
          "name": "stdout",
          "text": [
            "Mounted at /content/gdrive\n",
            "ratings_small.csv\t\t  user_topologycal_properties4.csv\n",
            "user_topologycal_properties1.csv  user_topologycal_properties5.csv\n",
            "user_topologycal_properties2.csv  user_topologycal_properties6.csv\n",
            "user_topologycal_properties3.csv\n"
          ]
        }
      ]
    },
    {
      "cell_type": "code",
      "metadata": {
        "id": "eKBDeXfns1B2"
      },
      "source": [
        "import pandas as pd\n",
        "import numpy as np\n",
        "import seaborn as sns\n",
        "import matplotlib.pyplot as plt\n",
        "from sklearn import preprocessing \n",
        "from cmfrec import CMF\n",
        "from sklearn.model_selection import train_test_split\n",
        "import sklearn.metrics as metrics\n",
        "import statistics\n",
        "import shap"
      ],
      "execution_count": 5,
      "outputs": []
    },
    {
      "cell_type": "code",
      "metadata": {
        "colab": {
          "base_uri": "https://localhost:8080/"
        },
        "id": "ABMTCZSruDVC",
        "outputId": "3bb36f7d-8520-4ac9-b67e-a6a2169bafaf"
      },
      "source": [
        "df_ratings = pd.read_csv('gdrive/MyDrive/Datasets/ratings_small.csv', usecols=[0, 1, 2])\n",
        "print(\"Number of ratings: {0}\".format(df_ratings.shape[0]))\n",
        "user_count = df_ratings['UserId'].nunique()\n",
        "movie_count = df_ratings[\"ItemId\"].nunique()\n",
        "print(\"Number of users: {0}\".format(user_count))\n",
        "print(\"Number of movies: {0}\".format(movie_count))"
      ],
      "execution_count": 6,
      "outputs": [
        {
          "output_type": "stream",
          "name": "stdout",
          "text": [
            "Number of ratings: 100004\n",
            "Number of users: 671\n",
            "Number of movies: 9066\n"
          ]
        }
      ]
    },
    {
      "cell_type": "code",
      "metadata": {
        "colab": {
          "base_uri": "https://localhost:8080/",
          "height": 297
        },
        "id": "8VR3gT2oucVh",
        "outputId": "ed6bf861-d747-4c17-dbaa-12b0ee87bbe7"
      },
      "source": [
        "df_ratings.describe()"
      ],
      "execution_count": 7,
      "outputs": [
        {
          "output_type": "execute_result",
          "data": {
            "text/html": [
              "<div>\n",
              "<style scoped>\n",
              "    .dataframe tbody tr th:only-of-type {\n",
              "        vertical-align: middle;\n",
              "    }\n",
              "\n",
              "    .dataframe tbody tr th {\n",
              "        vertical-align: top;\n",
              "    }\n",
              "\n",
              "    .dataframe thead th {\n",
              "        text-align: right;\n",
              "    }\n",
              "</style>\n",
              "<table border=\"1\" class=\"dataframe\">\n",
              "  <thead>\n",
              "    <tr style=\"text-align: right;\">\n",
              "      <th></th>\n",
              "      <th>UserId</th>\n",
              "      <th>ItemId</th>\n",
              "      <th>Rating</th>\n",
              "    </tr>\n",
              "  </thead>\n",
              "  <tbody>\n",
              "    <tr>\n",
              "      <th>count</th>\n",
              "      <td>100004.000000</td>\n",
              "      <td>100004.000000</td>\n",
              "      <td>100004.000000</td>\n",
              "    </tr>\n",
              "    <tr>\n",
              "      <th>mean</th>\n",
              "      <td>347.011310</td>\n",
              "      <td>12548.664363</td>\n",
              "      <td>3.543608</td>\n",
              "    </tr>\n",
              "    <tr>\n",
              "      <th>std</th>\n",
              "      <td>195.163838</td>\n",
              "      <td>26369.198969</td>\n",
              "      <td>1.058064</td>\n",
              "    </tr>\n",
              "    <tr>\n",
              "      <th>min</th>\n",
              "      <td>1.000000</td>\n",
              "      <td>1.000000</td>\n",
              "      <td>0.500000</td>\n",
              "    </tr>\n",
              "    <tr>\n",
              "      <th>25%</th>\n",
              "      <td>182.000000</td>\n",
              "      <td>1028.000000</td>\n",
              "      <td>3.000000</td>\n",
              "    </tr>\n",
              "    <tr>\n",
              "      <th>50%</th>\n",
              "      <td>367.000000</td>\n",
              "      <td>2406.500000</td>\n",
              "      <td>4.000000</td>\n",
              "    </tr>\n",
              "    <tr>\n",
              "      <th>75%</th>\n",
              "      <td>520.000000</td>\n",
              "      <td>5418.000000</td>\n",
              "      <td>4.000000</td>\n",
              "    </tr>\n",
              "    <tr>\n",
              "      <th>max</th>\n",
              "      <td>671.000000</td>\n",
              "      <td>163949.000000</td>\n",
              "      <td>5.000000</td>\n",
              "    </tr>\n",
              "  </tbody>\n",
              "</table>\n",
              "</div>"
            ],
            "text/plain": [
              "              UserId         ItemId         Rating\n",
              "count  100004.000000  100004.000000  100004.000000\n",
              "mean      347.011310   12548.664363       3.543608\n",
              "std       195.163838   26369.198969       1.058064\n",
              "min         1.000000       1.000000       0.500000\n",
              "25%       182.000000    1028.000000       3.000000\n",
              "50%       367.000000    2406.500000       4.000000\n",
              "75%       520.000000    5418.000000       4.000000\n",
              "max       671.000000  163949.000000       5.000000"
            ]
          },
          "metadata": {},
          "execution_count": 7
        }
      ]
    },
    {
      "cell_type": "code",
      "metadata": {
        "colab": {
          "base_uri": "https://localhost:8080/",
          "height": 316
        },
        "id": "i5jNw9SSu04a",
        "outputId": "f666bb53-bfaa-48d1-9079-85385cf6d8f6"
      },
      "source": [
        "ratings_list = df_ratings['Rating'].tolist()\n",
        "d = 1/2\n",
        "left_of_first_bin = min(ratings_list) - d/2\n",
        "right_of_last_bin = max(ratings_list) + d/2\n",
        "b = np.arange(left_of_first_bin, right_of_last_bin + d, d)\n",
        "plt.clf()\n",
        "sns.distplot(ratings_list, bins=b, hist=True, kde=True, color='darkorange', kde_kws={'linewidth': 3}, hist_kws={'color':'orange'})\n",
        "plt.xlabel(\"Rating\")\n",
        "plt.xticks(np.arange(0, 5.5, 0.5))\n",
        "plt.legend(labels=['Probability Density Function','Ratings Probability Density'])\n",
        "plt.grid()\n",
        "plt.show()"
      ],
      "execution_count": 13,
      "outputs": [
        {
          "output_type": "stream",
          "name": "stderr",
          "text": [
            "`distplot` is a deprecated function and will be removed in a future version. Please adapt your code to use either `displot` (a figure-level function with similar flexibility) or `histplot` (an axes-level function for histograms).\n"
          ]
        },
        {
          "output_type": "display_data",
          "data": {
            "image/png": "[encoded data removed]",
            "text/plain": [
              "<Figure size 432x288 with 1 Axes>"
            ]
          },
          "metadata": {
            "needs_background": "light"
          }
        }
      ]
    },
    {
      "cell_type": "code",
      "metadata": {
        "colab": {
          "base_uri": "https://localhost:8080/",
          "height": 282
        },
        "id": "DoSR8G87ufg6",
        "outputId": "e3519648-9b83-4f8c-9e6f-c62d87b5c12f"
      },
      "source": [
        "p = df_ratings.groupby('Rating')['Rating'].agg(['count'])\n",
        "ratings = []\n",
        "for i in np.arange(0.5, 5.5, 0.5):\n",
        "    ratings.append(str(i))\n",
        "rating_percentage = []\n",
        "for i in range(len(p)):\n",
        "    rating_percentage.append(p.iloc[i][0]*100 / p.sum()[0])\n",
        "\n",
        "plt.clf()\n",
        "plt.bar(ratings, rating_percentage, color=\"cyan\")\n",
        "plt.xlabel('Rating')\n",
        "plt.ylabel('Porcentaje Total por Rating')\n",
        "plt.show()"
      ],
      "execution_count": 12,
      "outputs": [
        {
          "output_type": "display_data",
          "data": {
            "image/png": "[encoded data removed]",
            "text/plain": [
              "<Figure size 432x288 with 1 Axes>"
            ]
          },
          "metadata": {
            "needs_background": "light"
          }
        }
      ]
    },
    {
      "cell_type": "code",
      "metadata": {
        "colab": {
          "base_uri": "https://localhost:8080/"
        },
        "id": "fg1GCNqG5BkT",
        "outputId": "8fd99982-f2d7-4471-805f-4fa9c8706984"
      },
      "source": [
        "#Grid Search\n",
        "rmse_min = np.inf\n",
        "ans = None\n",
        "k_values = [10, 20, 30, 50, 100] #latent factors\n",
        "lamda_values = [0.1, 1, 10, 50] #regularization parameter\n",
        "\n",
        "for k_ in k_values:\n",
        "  for l_ in lamda_values:\n",
        "    #Train-Test Split Dataset\n",
        "    users_train, users_test = train_test_split(df_ratings.UserId.unique(), test_size=0.2)\n",
        "    items_train, items_test = train_test_split(df_ratings.ItemId.unique(), test_size=0.2)\n",
        "    ratings_train, ratings_test = train_test_split(df_ratings.loc[df_ratings.UserId.isin(users_train) & df_ratings.ItemId.isin(items_train)], test_size=0.2)\n",
        "    users_train = ratings_train.UserId.unique()\n",
        "    items_train = ratings_train.ItemId.unique()\n",
        "    ratings_test = ratings_test.loc[ratings_test.UserId.isin(users_train) & ratings_test.ItemId.isin(items_train)]\n",
        "\n",
        "    #Fit Model\n",
        "    model = CMF(method=\"als\", k=k_, lambda_=l_, verbose=False).fit(ratings_train)\n",
        "\n",
        "    #Predictions\n",
        "    predictions = model.predict(ratings_test.UserId, ratings_test.ItemId)\n",
        "\n",
        "    #RMSE\n",
        "    rmse = metrics.mean_squared_error(ratings_test.Rating, predictions, squared=True)\n",
        "\n",
        "    if rmse < rmse_min:\n",
        "      rmse_min = rmse\n",
        "      ans = [k_, l_]\n",
        "\n",
        "print(\"The best RMSE is {0} and is obtained with the parameters k={1} and lambda={2}\".format(rmse_min, ans[0], ans[1]))"
      ],
      "execution_count": 10,
      "outputs": [
        {
          "output_type": "stream",
          "name": "stdout",
          "text": [
            "The best RMSE is 0.7579181928964689 and is obtained with the parameters k=100 and lambda=10\n"
          ]
        }
      ]
    },
    {
      "cell_type": "markdown",
      "metadata": {
        "id": "uxbsTfA57k0I"
      },
      "source": [
        "# Recommendation without topological properties"
      ]
    },
    {
      "cell_type": "code",
      "metadata": {
        "colab": {
          "base_uri": "https://localhost:8080/"
        },
        "id": "nicQ5c-WQBqv",
        "outputId": "1b9413c7-52d4-4773-f9cd-26f2a012ea4b"
      },
      "source": [
        "HOLDOUT = 20\n",
        "h_rmse = []\n",
        "h_mae = []\n",
        "h_r2 = []\n",
        "\n",
        "for i in range(HOLDOUT):\n",
        "  #Train-Test Split Dataset\n",
        "  users_train, users_test = train_test_split(df_ratings.UserId.unique(), test_size=0.2)\n",
        "  items_train, items_test = train_test_split(df_ratings.ItemId.unique(), test_size=0.2)\n",
        "  ratings_train, ratings_test = train_test_split(df_ratings.loc[df_ratings.UserId.isin(users_train) & df_ratings.ItemId.isin(items_train)], test_size=0.2)\n",
        "  users_train = ratings_train.UserId.unique()\n",
        "  items_train = ratings_train.ItemId.unique()\n",
        "  ratings_test = ratings_test.loc[ratings_test.UserId.isin(users_train) & ratings_test.ItemId.isin(items_train)]\n",
        "\n",
        "  #Fit Model\n",
        "  model = CMF(method=\"als\", k=100, lambda_=10, verbose=False).fit(ratings_train)\n",
        "\n",
        "  #Predictions\n",
        "  predictions = model.predict(ratings_test.UserId, ratings_test.ItemId)\n",
        "\n",
        "  #Metrics\n",
        "  rmse = metrics.mean_squared_error(ratings_test.Rating, predictions, squared=True)\n",
        "  mae = metrics.mean_absolute_error(ratings_test.Rating, predictions)\n",
        "  r2 = metrics.r2_score(ratings_test.Rating, predictions)\n",
        "  h_rmse.append(rmse)\n",
        "  h_mae.append(mae)\n",
        "  h_r2.append(r2)\n",
        "\n",
        "#Algorithm analysis\n",
        "mean_h_rmse = statistics.mean(h_rmse)\n",
        "mean_h_mae = statistics.mean(h_mae)\n",
        "mean_h_r2 = statistics.mean(h_r2)\n",
        "stdev_h_rmse = statistics.stdev(h_rmse)\n",
        "stdev_h_mae = statistics.stdev(h_mae)\n",
        "stdev_h_r2 = statistics.stdev(h_r2)\n",
        "print(\"Holdout Report\")\n",
        "print(\"Mean of RMSE, MAE, R2: {0}, {1}, {2}\".format(mean_h_rmse,mean_h_mae,mean_h_r2))\n",
        "print(\"Standard deviation of RMSE, MAE, R2: {0}, {1}, {2}\".format(stdev_h_rmse,stdev_h_mae,stdev_h_r2))"
      ],
      "execution_count": 11,
      "outputs": [
        {
          "output_type": "stream",
          "name": "stdout",
          "text": [
            "Holdout Report\n",
            "Mean of RMSE, MAE, R2: 0.7692309538089119, 0.6763922772504917, 0.3040961971938868\n",
            "Standard deviation of RMSE, MAE, R2: 0.016119241088169443, 0.006870246545009148, 0.013511236135440112\n"
          ]
        }
      ]
    },
    {
      "cell_type": "markdown",
      "metadata": {
        "id": "5TXojx-HvDgK"
      },
      "source": [
        "# Recommendation using topological properties (CMF)\n"
      ]
    },
    {
      "cell_type": "code",
      "metadata": {
        "colab": {
          "base_uri": "https://localhost:8080/"
        },
        "id": "6jcxub5DBeQR",
        "outputId": "04d92690-fe53-4d23-85e5-227ad163cf14"
      },
      "source": [
        "for i in range(6):\n",
        "\n",
        "  filename = \"gdrive/MyDrive/Datasets/user_topologycal_properties{0}.csv\".format(i+1)\n",
        "  df_users = pd.read_csv(filename)\n",
        "  #Normalize values\n",
        "  df_users['degree'] = preprocessing.scale(df_users['degree'])\n",
        "  df_users['betweenness'] = preprocessing.scale(df_users['betweenness'])\n",
        "  df_users['community'] = preprocessing.scale(df_users['community'])\n",
        "  \n",
        "  HOLDOUT = 20\n",
        "  for j in range(HOLDOUT):\n",
        "    #Train-Test Split Dataset\n",
        "    users_train, users_test = train_test_split(df_ratings.UserId.unique(), test_size=0.2)\n",
        "    items_train, items_test = train_test_split(df_ratings.ItemId.unique(), test_size=0.2)\n",
        "    ratings_train, ratings_test = train_test_split(df_ratings.loc[df_ratings.UserId.isin(users_train) & df_ratings.ItemId.isin(items_train)], test_size=0.2)\n",
        "    users_train = ratings_train.UserId.unique()\n",
        "    items_train = ratings_train.ItemId.unique()\n",
        "    ratings_test = ratings_test.loc[ratings_test.UserId.isin(users_train) & ratings_test.ItemId.isin(items_train)]\n",
        "    user_attr_train = df_users.loc[df_users.UserId.isin(users_train)]\n",
        "\n",
        "    #Fit Model\n",
        "    m_collective = CMF(method=\"als\", k=100, lambda_=10, verbose=False).fit(X=ratings_train, U=user_attr_train)\n",
        "\n",
        "    #Predictions\n",
        "    predictions = m_collective.predict(ratings_test.UserId, ratings_test.ItemId)\n",
        "\n",
        "    #Metrics\n",
        "    rmse = metrics.mean_squared_error(ratings_test.Rating,predictions,squared=True)\n",
        "    mae = metrics.mean_absolute_error(ratings_test.Rating,predictions)\n",
        "    r2 = metrics.r2_score(ratings_test.Rating,predictions)\n",
        "    h_rmse.append(rmse)\n",
        "    h_mae.append(mae)\n",
        "    h_r2.append(r2)\n",
        "\n",
        "  #Algorithm analysis\n",
        "  mean_h_rmse = statistics.mean(h_rmse)\n",
        "  mean_h_mae = statistics.mean(h_mae)\n",
        "  mean_h_r2 = statistics.mean(h_r2)\n",
        "  stdev_h_rmse = statistics.stdev(h_rmse)\n",
        "  stdev_h_mae = statistics.stdev(h_mae)\n",
        "  stdev_h_r2 = statistics.stdev(h_r2)\n",
        "  print(\"Holdout Report for Model {0}\".format(i+1))\n",
        "  print(\"Mean of RMSE, MAE, R2: {0}, {1}, {2}\".format(mean_h_rmse,mean_h_mae,mean_h_r2))\n",
        "  print(\"Standard deviation of RMSE, MAE, R2: {0}, {1}, {2}\".format(stdev_h_rmse,stdev_h_mae,stdev_h_r2))\n",
        "  print()"
      ],
      "execution_count": 14,
      "outputs": [
        {
          "output_type": "stream",
          "name": "stdout",
          "text": [
            "Holdout Report for Model 1\n",
            "Mean of RMSE, MAE, R2: 0.7692358800541844, 0.6763817605154723, 0.30492660215225476\n",
            "Standard deviation of RMSE, MAE, R2: 0.01750711154227068, 0.007906741798369251, 0.013828648659059624\n",
            "\n",
            "Holdout Report for Model 2\n",
            "Mean of RMSE, MAE, R2: 0.7691975363478387, 0.6765074901157759, 0.30660296266659\n",
            "Standard deviation of RMSE, MAE, R2: 0.016581515195477497, 0.00755990959808961, 0.013785669627080523\n",
            "\n",
            "Holdout Report for Model 3\n",
            "Mean of RMSE, MAE, R2: 0.7688032171263617, 0.6761780360585277, 0.30698556985490594\n",
            "Standard deviation of RMSE, MAE, R2: 0.015937662385070446, 0.007599543477549757, 0.012755838092306276\n",
            "\n",
            "Holdout Report for Model 4\n",
            "Mean of RMSE, MAE, R2: 0.7671319535464233, 0.6754384389709441, 0.30750155223725345\n",
            "Standard deviation of RMSE, MAE, R2: 0.01656587534339736, 0.007578125723036415, 0.012662939494425294\n",
            "\n",
            "Holdout Report for Model 5\n",
            "Mean of RMSE, MAE, R2: 0.7667004977651634, 0.6753089120366997, 0.30774922551041145\n",
            "Standard deviation of RMSE, MAE, R2: 0.016363125635153897, 0.007424045312069035, 0.012557339509208856\n",
            "\n",
            "Holdout Report for Model 6\n",
            "Mean of RMSE, MAE, R2: 0.7665866210165262, 0.6751870521170398, 0.3073580044869552\n",
            "Standard deviation of RMSE, MAE, R2: 0.016698144227956565, 0.007621925492331072, 0.012525163408631329\n",
            "\n"
          ]
        }
      ]
    },
    {
      "cell_type": "markdown",
      "metadata": {
        "id": "B2EFT2Jl-B6Z"
      },
      "source": [
        "Hay mejoras en todos los modelos con respecto a la recomendación sin el uso de medidas topológicas del grafo. El cambio más notorio es en el modelo 6 con una mejora en el RMSE de 0.002644"
      ]
    }
  ]
}